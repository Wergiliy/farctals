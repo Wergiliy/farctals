{
 "cells": [
  {
   "cell_type": "code",
   "execution_count": null,
   "metadata": {},
   "outputs": [],
   "source": [
    "axiom = \"F\"\n",
    "tempAx = \"\""
   ]
  },
  {
   "cell_type": "code",
   "execution_count": null,
   "metadata": {},
   "outputs": [],
   "source": [
    "ln = len(axiom)\n",
    "for i in range(ln):\n",
    "    if axiom[i] == \"+\":\n",
    "        tempAx = tempAx + \"+\"\n",
    "    elif axiom[i] == \"-\":\n",
    "        tempAx = tempAx + \"-\"\n",
    "    else:\n",
    "        tempAx = tempAx + \"F+F-F-F+F\"\n",
    "axiom = tempAx\n",
    "tempAx = \"\"\n",
    "print(axiom)"
   ]
  },
  {
   "cell_type": "code",
   "execution_count": null,
   "metadata": {},
   "outputs": [],
   "source": [
    "import turtle"
   ]
  },
  {
   "cell_type": "code",
   "execution_count": null,
   "metadata": {},
   "outputs": [],
   "source": [
    "turtle.penup()\n",
    "turtle.setposition(-380,300)\n",
    "turtle.pendown()\n",
    "turtle.pensize(2)\n",
    "\n",
    "ln = len(axiom)\n",
    "for i in range(ln):\n",
    "    if axiom[i] == \"+\":\n",
    "        turtle.right(90)пше\n",
    "    elif axiom[i] == \"-\":\n",
    "        turtle.left(90)\n",
    "    else:\n",
    "        turtle.forward(15)\n",
    "turtle.update()\n",
    "turtle.done()"
   ]
  },
  {
   "cell_type": "code",
   "execution_count": null,
   "metadata": {},
   "outputs": [],
   "source": []
  }
 ],
 "metadata": {
  "kernelspec": {
   "display_name": "Python 3",
   "language": "python",
   "name": "python3"
  },
  "language_info": {
   "codemirror_mode": {
    "name": "ipython",
    "version": 3
   },
   "file_extension": ".py",
   "mimetype": "text/x-python",
   "name": "python",
   "nbconvert_exporter": "python",
   "pygments_lexer": "ipython3",
   "version": "3.8.3"
  }
 },
 "nbformat": 4,
 "nbformat_minor": 4
}
